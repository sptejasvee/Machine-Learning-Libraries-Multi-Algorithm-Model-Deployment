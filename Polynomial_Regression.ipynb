{
 "cells": [
  {
   "cell_type": "markdown",
   "metadata": {},
   "source": [
    "## Polynomial Regression Model"
   ]
  },
  {
   "cell_type": "code",
   "execution_count": 1,
   "metadata": {},
   "outputs": [],
   "source": [
    "# Importing Libraries\n",
    "import numpy as np\n",
    "import pandas as pd\n",
    "import matplotlib.pyplot as plt"
   ]
  },
  {
   "cell_type": "code",
   "execution_count": 2,
   "metadata": {},
   "outputs": [],
   "source": [
    "# Loading Data\n",
    "df = pd.read_csv(\"Polynomialdata_train.csv\")"
   ]
  },
  {
   "cell_type": "code",
   "execution_count": 3,
   "metadata": {},
   "outputs": [],
   "source": [
    "# Shuffle the dataframe values\n",
    "np.random.seed(42)\n",
    "df_shuffled = df.sample(frac=1).reset_index(drop=True)\n",
    "df_values = df_shuffled.values"
   ]
  },
  {
   "cell_type": "code",
   "execution_count": 4,
   "metadata": {},
   "outputs": [],
   "source": [
    "# Shuffle the dataframe values\n",
    "X = df_values[:, 1:]\n",
    "y = df_values[:, 0].reshape(-1,1)"
   ]
  },
  {
   "cell_type": "code",
   "execution_count": 5,
   "metadata": {},
   "outputs": [],
   "source": [
    "theta = np.zeros((X.shape[1],1))"
   ]
  },
  {
   "cell_type": "code",
   "execution_count": 6,
   "metadata": {},
   "outputs": [],
   "source": [
    "# Normalization of features variable\n",
    "def normalize(X):\n",
    "    mean = np.mean(X, axis=0)\n",
    "    std = np.std(X, axis=0)\n",
    "    norm_X = (X - mean) / std\n",
    "    return norm_X"
   ]
  },
  {
   "cell_type": "code",
   "execution_count": 7,
   "metadata": {},
   "outputs": [],
   "source": [
    "# Generating polynomial features\n",
    "def df_polynomial(X,degree):\n",
    "    n = X.shape[1]\n",
    "    poly_X = []\n",
    "    for d in range(1,degree + 1):\n",
    "        for i in range(n):\n",
    "            poly_X.append(X[:, i]**d)\n",
    "\n",
    "    for i in range(n):\n",
    "        for j in range(i + 1, n):\n",
    "            for d in range(1, degree):\n",
    "                poly_X.append(X[:, i]**d * X[:, j])\n",
    "\n",
    "    for i in range(n):\n",
    "        for j in range(i + 1, n):\n",
    "            for d in range(2, degree):\n",
    "                poly_X.append(X[:, j]**d * X[:, i])\n",
    "    poly_X = np.column_stack(poly_X)\n",
    "    return poly_X"
   ]
  },
  {
   "cell_type": "code",
   "execution_count": 8,
   "metadata": {},
   "outputs": [],
   "source": [
    "def polynomial_regression(X,y,alpha,itr,lambd):\n",
    "    theta = np.zeros((X.shape[1],1))\n",
    "    cost_list = []\n",
    "    m = y.size\n",
    "    for i in range(itr):\n",
    "        pred = np.dot(X,theta)\n",
    "        error = pred - y\n",
    "        regularization = (lambd / (2 * m)) * np.sum(theta[1:]**2)\n",
    "\n",
    "        # Cost Calculation\n",
    "        cost = np.sum(np.square(error))/(2*m) + regularization\n",
    "        cost_list.append(cost)\n",
    "\n",
    "        # Gradient Descent\n",
    "        gradient = np.dot(X.T,error) / m + (lambd / m) * np.vstack([0, theta[1:]])\n",
    "        theta = theta-alpha * gradient\n",
    "\n",
    "        if (i+1)%100==0 or i==0:\n",
    "            print(\"Itr\",i+1,\": Cost =\", cost)\n",
    "\n",
    "    return theta,cost_list"
   ]
  },
  {
   "cell_type": "code",
   "execution_count": 9,
   "metadata": {},
   "outputs": [],
   "source": [
    "learning_rate = 0.06\n",
    "iteration = 2500\n",
    "degree = 4\n",
    "lambd = 100"
   ]
  },
  {
   "cell_type": "code",
   "execution_count": 10,
   "metadata": {},
   "outputs": [],
   "source": [
    "X = df_polynomial(X,degree=degree)\n",
    "X = normalize(X)\n",
    "ones_column = np.ones((X.shape[0], 1))\n",
    "X = np.concatenate((ones_column, X), axis=1)"
   ]
  },
  {
   "cell_type": "code",
   "execution_count": 11,
   "metadata": {},
   "outputs": [],
   "source": [
    "# Cross-validation sets (80:20 split)\n",
    "train_size = int(len(X) * 0.8)\n",
    "X_train, X_val = X[:train_size], X[train_size:]\n",
    "y_train, y_val = y[:train_size], y[train_size:]"
   ]
  },
  {
   "cell_type": "code",
   "execution_count": 12,
   "metadata": {},
   "outputs": [
    {
     "name": "stdout",
     "output_type": "stream",
     "text": [
      "Itr 1 : Cost = 70174056995335.9\n",
      "Itr 100 : Cost = 9992170005867.5\n",
      "Itr 200 : Cost = 7701336304176.455\n",
      "Itr 300 : Cost = 7269173168317.391\n",
      "Itr 400 : Cost = 7185649733075.746\n",
      "Itr 500 : Cost = 7169383155609.067\n",
      "Itr 600 : Cost = 7166200434161.878\n",
      "Itr 700 : Cost = 7165575794676.859\n",
      "Itr 800 : Cost = 7165452945572.876\n",
      "Itr 900 : Cost = 7165428748363.6875\n",
      "Itr 1000 : Cost = 7165423977012.1875\n",
      "Itr 1100 : Cost = 7165423035361.864\n",
      "Itr 1200 : Cost = 7165422849395.117\n",
      "Itr 1300 : Cost = 7165422812647.697\n",
      "Itr 1400 : Cost = 7165422805382.816\n",
      "Itr 1500 : Cost = 7165422803945.959\n",
      "Itr 1600 : Cost = 7165422803661.664\n",
      "Itr 1700 : Cost = 7165422803605.397\n",
      "Itr 1800 : Cost = 7165422803594.257\n",
      "Itr 1900 : Cost = 7165422803592.049\n",
      "Itr 2000 : Cost = 7165422803591.611\n",
      "Itr 2100 : Cost = 7165422803591.524\n",
      "Itr 2200 : Cost = 7165422803591.508\n",
      "Itr 2300 : Cost = 7165422803591.504\n",
      "Itr 2400 : Cost = 7165422803591.505\n",
      "Itr 2500 : Cost = 7165422803591.502\n"
     ]
    }
   ],
   "source": [
    "theta, cost_list = polynomial_regression(X_train, y_train, alpha = learning_rate, itr =iteration, lambd=lambd)"
   ]
  },
  {
   "cell_type": "code",
   "execution_count": 13,
   "metadata": {},
   "outputs": [
    {
     "data": {
      "image/png": "[encoded data removed]",
      "text/plain": [
       "<Figure size 640x480 with 1 Axes>"
      ]
     },
     "metadata": {},
     "output_type": "display_data"
    }
   ],
   "source": [
    "# Graph: Cost vs Iteration\n",
    "plt.plot(range(iteration), cost_list)\n",
    "plt.title('Cost vs. Iteration')\n",
    "plt.xlabel('Iteration')\n",
    "plt.ylabel('Cost')\n",
    "plt.show()"
   ]
  },
  {
   "cell_type": "code",
   "execution_count": 14,
   "metadata": {},
   "outputs": [
    {
     "name": "stdout",
     "output_type": "stream",
     "text": [
      "R-squared score on validation set: 0.9102795240143028\n"
     ]
    }
   ],
   "source": [
    "# Checking R-2 Score\n",
    "pred = np.dot(X_val,theta)\n",
    "ssr = np.sum((pred - np.mean(y_val))**2)\n",
    "sse = np.sum((y_val - pred)**2)\n",
    "r2_score = 1 - (sse / (ssr + sse))\n",
    "print(f'R-squared score on validation set: {r2_score}')"
   ]
  },
  {
   "cell_type": "code",
   "execution_count": 16,
   "metadata": {},
   "outputs": [],
   "source": [
    "# Loading Test data\n",
    "test = pd.read_csv(\"Polynomialdata_test.csv\")\n",
    "\n",
    "# Extracting features and target variable\n",
    "test=test.values\n",
    "X_test = test[:, 1:]\n",
    "\n",
    "# Normalisation and creation of polynimal features\n",
    "X_test = df_polynomial(X_test,degree=degree)\n",
    "X_test = normalize(X_test)\n",
    "ones_column = np.ones((X_test.shape[0], 1))\n",
    "X_test = np.concatenate((ones_column, X_test), axis=1)\n"
   ]
  },
  {
   "cell_type": "code",
   "execution_count": 17,
   "metadata": {},
   "outputs": [
    {
     "name": "stdout",
     "output_type": "stream",
     "text": [
      "[[ -735608.69484589]\n",
      " [ -385603.47291461]\n",
      " [  203540.29878833]\n",
      " ...\n",
      " [  756796.09163538]\n",
      " [-1374658.43447428]\n",
      " [ 1390207.08245121]]\n"
     ]
    }
   ],
   "source": [
    "# Predicting Values on Test Data\n",
    "y_pred = np.dot(X_test,theta)\n",
    "print(y_pred)"
   ]
  },
  {
   "cell_type": "code",
   "execution_count": 18,
   "metadata": {},
   "outputs": [
    {
     "data": {
      "text/html": [
       "<div>\n",
       "<style scoped>\n",
       "    .dataframe tbody tr th:only-of-type {\n",
       "        vertical-align: middle;\n",
       "    }\n",
       "\n",
       "    .dataframe tbody tr th {\n",
       "        vertical-align: top;\n",
       "    }\n",
       "\n",
       "    .dataframe thead th {\n",
       "        text-align: right;\n",
       "    }\n",
       "</style>\n",
       "<table border=\"1\" class=\"dataframe\">\n",
       "  <thead>\n",
       "    <tr style=\"text-align: right;\">\n",
       "      <th></th>\n",
       "      <th>target</th>\n",
       "      <th>features_1</th>\n",
       "      <th>features_2</th>\n",
       "      <th>features_3</th>\n",
       "    </tr>\n",
       "  </thead>\n",
       "  <tbody>\n",
       "    <tr>\n",
       "      <th>0</th>\n",
       "      <td>-7.356087e+05</td>\n",
       "      <td>36.247643</td>\n",
       "      <td>-2.372704</td>\n",
       "      <td>43.835947</td>\n",
       "    </tr>\n",
       "    <tr>\n",
       "      <th>1</th>\n",
       "      <td>-3.856035e+05</td>\n",
       "      <td>5.903779</td>\n",
       "      <td>5.460086</td>\n",
       "      <td>-96.149414</td>\n",
       "    </tr>\n",
       "    <tr>\n",
       "      <th>2</th>\n",
       "      <td>2.035403e+05</td>\n",
       "      <td>-37.298157</td>\n",
       "      <td>6.869786</td>\n",
       "      <td>-14.084487</td>\n",
       "    </tr>\n",
       "    <tr>\n",
       "      <th>3</th>\n",
       "      <td>-7.947180e+05</td>\n",
       "      <td>-40.080077</td>\n",
       "      <td>2.395066</td>\n",
       "      <td>-43.432941</td>\n",
       "    </tr>\n",
       "    <tr>\n",
       "      <th>4</th>\n",
       "      <td>1.100671e+06</td>\n",
       "      <td>-20.417799</td>\n",
       "      <td>-2.194459</td>\n",
       "      <td>5.737226</td>\n",
       "    </tr>\n",
       "    <tr>\n",
       "      <th>...</th>\n",
       "      <td>...</td>\n",
       "      <td>...</td>\n",
       "      <td>...</td>\n",
       "      <td>...</td>\n",
       "    </tr>\n",
       "    <tr>\n",
       "      <th>9995</th>\n",
       "      <td>-1.057179e+06</td>\n",
       "      <td>-13.571554</td>\n",
       "      <td>2.931176</td>\n",
       "      <td>76.902716</td>\n",
       "    </tr>\n",
       "    <tr>\n",
       "      <th>9996</th>\n",
       "      <td>3.762678e+05</td>\n",
       "      <td>-2.015904</td>\n",
       "      <td>-2.827700</td>\n",
       "      <td>4.999604</td>\n",
       "    </tr>\n",
       "    <tr>\n",
       "      <th>9997</th>\n",
       "      <td>7.567961e+05</td>\n",
       "      <td>47.095192</td>\n",
       "      <td>-1.977461</td>\n",
       "      <td>39.044902</td>\n",
       "    </tr>\n",
       "    <tr>\n",
       "      <th>9998</th>\n",
       "      <td>-1.374658e+06</td>\n",
       "      <td>-1.808178</td>\n",
       "      <td>-0.693782</td>\n",
       "      <td>57.918628</td>\n",
       "    </tr>\n",
       "    <tr>\n",
       "      <th>9999</th>\n",
       "      <td>1.390207e+06</td>\n",
       "      <td>19.958034</td>\n",
       "      <td>2.294516</td>\n",
       "      <td>-16.082546</td>\n",
       "    </tr>\n",
       "  </tbody>\n",
       "</table>\n",
       "<p>10000 rows × 4 columns</p>\n",
       "</div>"
      ],
      "text/plain": [
       "            target  features_1  features_2  features_3\n",
       "0    -7.356087e+05   36.247643   -2.372704   43.835947\n",
       "1    -3.856035e+05    5.903779    5.460086  -96.149414\n",
       "2     2.035403e+05  -37.298157    6.869786  -14.084487\n",
       "3    -7.947180e+05  -40.080077    2.395066  -43.432941\n",
       "4     1.100671e+06  -20.417799   -2.194459    5.737226\n",
       "...            ...         ...         ...         ...\n",
       "9995 -1.057179e+06  -13.571554    2.931176   76.902716\n",
       "9996  3.762678e+05   -2.015904   -2.827700    4.999604\n",
       "9997  7.567961e+05   47.095192   -1.977461   39.044902\n",
       "9998 -1.374658e+06   -1.808178   -0.693782   57.918628\n",
       "9999  1.390207e+06   19.958034    2.294516  -16.082546\n",
       "\n",
       "[10000 rows x 4 columns]"
      ]
     },
     "execution_count": 18,
     "metadata": {},
     "output_type": "execute_result"
    }
   ],
   "source": [
    "column_names = ['target'] + [f'features_{i}' for i in range(1,4)]\n",
    "Result = pd.DataFrame(data=np.column_stack([y_pred, test[:, 1:]]), columns=column_names)\n",
    "Result\n",
    "# file_path = \"Polynomial_output.csv\"\n",
    "# Result.to_csv(file_path, index=False)"
   ]
  }
 ],
 "metadata": {
  "kernelspec": {
   "display_name": "Python 3 (ipykernel)",
   "language": "python",
   "name": "python3"
  },
  "language_info": {
   "codemirror_mode": {
    "name": "ipython",
    "version": 3
   },
   "file_extension": ".py",
   "mimetype": "text/x-python",
   "name": "python",
   "nbconvert_exporter": "python",
   "pygments_lexer": "ipython3",
   "version": "3.12.1"
  }
 },
 "nbformat": 4,
 "nbformat_minor": 4
}
